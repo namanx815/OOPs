{
  "nbformat": 4,
  "nbformat_minor": 0,
  "metadata": {
    "colab": {
      "provenance": []
    },
    "kernelspec": {
      "name": "python3",
      "display_name": "Python 3"
    },
    "language_info": {
      "name": "python"
    }
  },
  "cells": [
    {
      "cell_type": "markdown",
      "source": [
        "#OOPs\n",
        "\n",
        "1. What is Object-Oriented Programming (OOP)?\n",
        "\n",
        "  ->OOP is a programming paradigm based on the concept of \"objects\", which contain both data (attributes) and behavior (methods). It promotes reusability, modularity, and maintainability.\n",
        "\n",
        "2. What is a class in OOP?\n",
        "\n",
        "  ->A class is a blueprint or template for creating objects. It defines the attributes and methods that the objects created from the class will have.\n",
        "\n",
        "3. What is an object in OOP?\n",
        "\n",
        "  ->An object is an instance of a class. It holds actual values for the attributes defined in the class.\n",
        "\n",
        "4. Difference between abstraction and encapsulation?\n",
        "\n",
        "  ->Abstraction hides complex implementation details and shows only the essential features.\n",
        "  \n",
        "  Encapsulation restricts direct access to some of an object's components (via private variables and methods).\n",
        "\n",
        "5.  What are dunder methods in Python?\n",
        "\n",
        "  ->\"Dunder\" stands for double underscore. These are special methods like __init__, __str__, __len__ that Python uses to perform built-in operations.\n",
        "\n",
        "6.  Explain the concept of inheritance in OOP.\n",
        "\n",
        "  ->Inheritance allows a class to inherit attributes and methods from another class.\n",
        "\n",
        "7. What is polymorphism in OOP?\n",
        "\n",
        "  ->Polymorphism allows different classes to be treated as the same interface. For example, multiple classes can have a method called speak(), and Python will call the correct one depending on the object.\n",
        "\n",
        "8.  How is encapsulation achieved in Python?\n",
        "\n",
        "  ->ncapsulation is done using private attributes (prefix _ or __) and getter/setter methods.\n",
        "\n",
        "9. What is a constructor in Python?\n",
        "\n",
        "  ->The __init__() method is the constructor; it initializes new objects.\n",
        "\n",
        "10. What are class and static methods in Python?\n",
        "\n",
        "  ->@classmethod: Works with the class, not instances.\n",
        "  \n",
        "  @staticmethod: Doesn’t access class or instance data.\n",
        "\n",
        "11. What is method overloading in Python?\n",
        "\n",
        "  ->Python doesn’t support traditional overloading. Instead, you can use default arguments or variable-length arguments.\n",
        "\n",
        "12. What is method overriding in OOP?\n",
        "  \n",
        "  ->Method overriding occurs when a subclass provides a specific implementation of a method already defined in its superclass.\n",
        "\n",
        "13. What is a property decorator in Python?\n",
        "  \n",
        "  ->@property lets you define a method that can be accessed like an attribute, often used for computed properties or encapsulation.\n",
        "\n",
        "14. Why is polymorphism important in OOP?\n",
        "\n",
        "  ->It allows for code flexibility and reuse. You can write functions that work on objects of different classes if they share the same method names.\n",
        "\n",
        "15. What is an abstract class in Python?\n",
        "  ->An abstract class cannot be instantiated and may contain abstract methods (defined using the abc module).\n",
        "\n",
        "16. Advantages of OOP:\n",
        "\n",
        "  ->Code reusability (inheritance)\n",
        "  \n",
        "  Flexibility (polymorphism)\n",
        "  \n",
        "  Better structure (encapsulation and abstraction)\n",
        "  \n",
        "  Easier to maintain and scale\n",
        "\n",
        "17. Difference between class variable and instance variable:\n",
        "  ->Class variable: Shared by all instances (Car.wheels)\n",
        "  \n",
        "  Instance variable: Unique to each object (self.color)\n",
        "\n",
        "18. What is multiple inheritance in Python?\n",
        "\n",
        "  ->A class can inherit from more than one parent class.\n",
        "\n",
        "19. Purpose of __str__ and __repr__:\n",
        "   \n",
        "   ->__str__: User-friendly string representation (used by print())\n",
        "   \n",
        "   __repr__: Developer-friendly string, used for debugging\n",
        "\n",
        "20. Significance of super() function:\n",
        "\n",
        "  ->super() is used to call methods from the parent class, typically inside constructors or overridden methods.\n",
        "\n",
        "21. What is the significance of __del__ method in Python?\n",
        "\n",
        "  ->This is the destructor method, called when an object is deleted. Use it carefully, as it can cause unexpected behavior with resource management.\n",
        "\n",
        "22. Difference between @staticmethod and @classmethod:\n",
        "\n",
        "  ->@staticmethod: No access to class or instance (cls or self)\n",
        "  \n",
        "  @classmethod: Access to the class object (cls), but not the instance\n",
        "\n",
        "23. How does polymorphism work in Python with inheritance?\n",
        "\n",
        "  ->If multiple classes inherit from a base class and override the same method, you can treat them uniformly and Python will call the correct method.\n",
        "\n",
        "24. What is method chaining in Python OOP?\n",
        "\n",
        "  ->Calling multiple methods on the same object in a single line. Each method returns self.\n",
        "\n",
        "25. Purpose of the __call__ method in Python:\n",
        "\n",
        "  ->If defined, it lets an object be called like a function."
      ],
      "metadata": {
        "id": "ed-HNuCT6jBw"
      }
    },
    {
      "cell_type": "code",
      "source": [
        "#Question 1\n",
        "class Animal:\n",
        "  def speak(self):\n",
        "    print(\"Animal speaking\")\n",
        "\n",
        "class Dog(Animal):\n",
        "  def speak(self):\n",
        "    print(\"Dog barking\")\n",
        "\n",
        "dog=Dog()\n",
        "dog.speak()"
      ],
      "metadata": {
        "colab": {
          "base_uri": "https://localhost:8080/"
        },
        "id": "MF90ml2i6qCs",
        "outputId": "0d0fd122-9f80-4d86-f772-9f13b1f7a376"
      },
      "execution_count": 1,
      "outputs": [
        {
          "output_type": "stream",
          "name": "stdout",
          "text": [
            "Dog barking\n"
          ]
        }
      ]
    },
    {
      "cell_type": "code",
      "source": [
        "#Question 2\n",
        "from abc import ABC,abstractmethod\n",
        "class Shape(ABC):\n",
        "  @abstractmethod\n",
        "  def area(self):\n",
        "    pass\n",
        "\n",
        "class circle(Shape):\n",
        "  def __init__(self,radius):\n",
        "    self.radius=radius\n",
        "  def area(self):\n",
        "    return 3.14*self.radius*self.radius\n",
        "class rectangle(Shape):\n",
        "  def __init__(self,length,width):\n",
        "    self.length=length\n",
        "    self.width=width\n",
        "  def area(self):\n",
        "    return self.length*self.width\n",
        "r=rectangle(4,5)\n",
        "c=circle(5)\n",
        "print(c.area())\n",
        "print(r.area())\n"
      ],
      "metadata": {
        "colab": {
          "base_uri": "https://localhost:8080/"
        },
        "id": "Xq7cfrInA9RX",
        "outputId": "5d2a9a6e-944f-43c7-a31c-1a6a4020c085"
      },
      "execution_count": 3,
      "outputs": [
        {
          "output_type": "stream",
          "name": "stdout",
          "text": [
            "78.5\n",
            "20\n"
          ]
        }
      ]
    },
    {
      "cell_type": "code",
      "source": [
        "#Question 3\n",
        "class vehicle:\n",
        "  def __init__(self,vehicle_type):\n",
        "    self.vehicle_type=vehicle_type\n",
        "\n",
        "class Car(vehicle):\n",
        "  def __init__(self,vehicle_type,brand):\n",
        "    super().__init__(vehicle_type)\n",
        "    self.brand=brand\n",
        "class ElectricCar(Car):\n",
        "    def __init__(self, vehicle_type, brand, battery_capacity):\n",
        "        super().__init__(vehicle_type, brand)  # call Car's constructor\n",
        "        self.battery = battery_capacity\n",
        "    def display_info(self):\n",
        "        print(f\"Type: {self.vehicle_type}\")\n",
        "        print(f\"Brand: {self.brand}\")\n",
        "        print(f\"Battery: {self.battery} kWh\")\n",
        "\n",
        "my_ecar = ElectricCar(\"Four Wheeler\", \"Tesla\", 75)\n",
        "my_ecar.display_info()"
      ],
      "metadata": {
        "colab": {
          "base_uri": "https://localhost:8080/"
        },
        "id": "MSlBlSRaA9nB",
        "outputId": "ce81166b-5605-4d6c-ddda-495cb14b355c"
      },
      "execution_count": 8,
      "outputs": [
        {
          "output_type": "stream",
          "name": "stdout",
          "text": [
            "Type: Four Wheeler\n",
            "Brand: Tesla\n",
            "Battery: 75 kWh\n"
          ]
        }
      ]
    },
    {
      "cell_type": "code",
      "source": [
        "#Question 4\n",
        "class Bird:\n",
        "    def fly(self):\n",
        "        print(\"This bird can fly.\")\n",
        "\n",
        "class Sparrow(Bird):\n",
        "    def fly(self):\n",
        "        print(\"Sparrow flies high in the sky.\")\n",
        "\n",
        "class Penguin(Bird):\n",
        "    def fly(self):\n",
        "        print(\"Penguins can't fly, they swim.\")\n",
        "\n",
        "def show_flight(bird):\n",
        "    bird.fly()\n",
        "\n",
        "bird1 = Sparrow()\n",
        "bird2 = Penguin()\n",
        "\n",
        "show_flight(bird1)\n",
        "show_flight(bird2)"
      ],
      "metadata": {
        "colab": {
          "base_uri": "https://localhost:8080/"
        },
        "id": "LM_F3GbyA94p",
        "outputId": "1ff4c701-b40e-4412-e918-f3ee87094d8f"
      },
      "execution_count": 28,
      "outputs": [
        {
          "output_type": "stream",
          "name": "stdout",
          "text": [
            "Sparrow flies high in the sky.\n",
            "Penguins can't fly, they swim.\n"
          ]
        }
      ]
    },
    {
      "cell_type": "code",
      "source": [
        "#Question 5\n",
        "class BankAccount:\n",
        "    def __init__(self, initial_balance=0):\n",
        "        self.__balance = initial_balance\n",
        "\n",
        "    def deposit(self, amount):\n",
        "        if amount > 0:\n",
        "            self.__balance += amount\n",
        "\n",
        "    def withdraw(self, amount):\n",
        "        if 0 < amount <= self.__balance:\n",
        "            self.__balance -= amount\n",
        "\n",
        "    def check_balance(self):\n",
        "        return self.__balance\n",
        "\n",
        "account = BankAccount(1000)\n",
        "account.deposit(500)\n",
        "account.withdraw(200)\n",
        "print(\"Current Balance:\", account.check_balance())\n"
      ],
      "metadata": {
        "colab": {
          "base_uri": "https://localhost:8080/"
        },
        "id": "I92pCKAkG4ye",
        "outputId": "0dd21ece-f767-4f31-8169-173d66fae145"
      },
      "execution_count": 27,
      "outputs": [
        {
          "output_type": "stream",
          "name": "stdout",
          "text": [
            "Current Balance: 1300\n"
          ]
        }
      ]
    },
    {
      "cell_type": "code",
      "source": [
        "#Question 6\n",
        "class Instrument:\n",
        "    def play(self):\n",
        "        print(\"Instrument is playing.\")\n",
        "\n",
        "class Guitar(Instrument):\n",
        "    def play(self):\n",
        "        print(\"Guitar is strumming.\")\n",
        "\n",
        "class Piano(Instrument):\n",
        "    def play(self):\n",
        "        print(\"Piano is playing notes.\")\n",
        "\n",
        "def perform(instrument):\n",
        "    instrument.play()\n",
        "\n",
        "g = Guitar()\n",
        "p = Piano()\n",
        "\n",
        "perform(g)\n",
        "perform(p)\n"
      ],
      "metadata": {
        "colab": {
          "base_uri": "https://localhost:8080/"
        },
        "id": "IRsIqT9PG48M",
        "outputId": "484edbda-fe90-497b-e42b-219f54f3c65c"
      },
      "execution_count": 26,
      "outputs": [
        {
          "output_type": "stream",
          "name": "stdout",
          "text": [
            "Guitar is strumming.\n",
            "Piano is playing notes.\n"
          ]
        }
      ]
    },
    {
      "cell_type": "code",
      "source": [
        "#Question 7\n",
        "class MathOperations:\n",
        "    @classmethod\n",
        "    def add_numbers(cls, a, b):\n",
        "        return a + b\n",
        "\n",
        "    @staticmethod\n",
        "    def subtract_numbers(a, b):\n",
        "        return a - b\n",
        "\n",
        "print(\"Addition:\", MathOperations.add_numbers(10, 5))\n",
        "print(\"Subtraction:\", MathOperations.subtract_numbers(10, 5))\n"
      ],
      "metadata": {
        "colab": {
          "base_uri": "https://localhost:8080/"
        },
        "id": "OgtNBSapG5GB",
        "outputId": "6b59f029-ff24-46ff-d143-5934d73f96b2"
      },
      "execution_count": 25,
      "outputs": [
        {
          "output_type": "stream",
          "name": "stdout",
          "text": [
            "Addition: 15\n",
            "Subtraction: 5\n"
          ]
        }
      ]
    },
    {
      "cell_type": "code",
      "source": [
        "#Question 8\n",
        "class Person:\n",
        "    count = 0\n",
        "\n",
        "    def __init__(self, name):\n",
        "        self.name = name\n",
        "        Person.count += 1\n",
        "\n",
        "    @classmethod\n",
        "    def total_persons(cls):\n",
        "        return cls.count\n",
        "\n",
        "p1 = Person(\"Alice\")\n",
        "p2 = Person(\"Bob\")\n",
        "p3 = Person(\"Charlie\")\n",
        "\n",
        "print(\"Total Persons:\", Person.total_persons())\n"
      ],
      "metadata": {
        "colab": {
          "base_uri": "https://localhost:8080/"
        },
        "id": "XwgdJuDlG5Rd",
        "outputId": "3cdeff3c-83d0-4f05-ba3f-10b267c97b02"
      },
      "execution_count": 24,
      "outputs": [
        {
          "output_type": "stream",
          "name": "stdout",
          "text": [
            "Total Persons: 3\n"
          ]
        }
      ]
    },
    {
      "cell_type": "code",
      "source": [
        "#Question 9\n",
        "class Fraction:\n",
        "    def __init__(self, numerator, denominator):\n",
        "        self.numerator = numerator\n",
        "        self.denominator = denominator\n",
        "\n",
        "    def __str__(self):\n",
        "        return f\"{self.numerator}/{self.denominator}\"\n",
        "\n",
        "f = Fraction(3, 4)\n",
        "print(f)\n"
      ],
      "metadata": {
        "colab": {
          "base_uri": "https://localhost:8080/"
        },
        "id": "6nq1iVmJIW4b",
        "outputId": "69499fe6-e337-4f37-fb2e-a777f8b1d932"
      },
      "execution_count": 23,
      "outputs": [
        {
          "output_type": "stream",
          "name": "stdout",
          "text": [
            "3/4\n"
          ]
        }
      ]
    },
    {
      "cell_type": "code",
      "source": [
        "#Question 10\n",
        "class Vector:\n",
        "    def __init__(self, x, y):\n",
        "        self.x = x\n",
        "        self.y = y\n",
        "\n",
        "    def __add__(self, other):\n",
        "        return Vector(self.x + other.x, self.y + other.y)\n",
        "\n",
        "    def __str__(self):\n",
        "        return f\"({self.x}, {self.y})\"\n",
        "\n",
        "v1 = Vector(2, 3)\n",
        "v2 = Vector(4, 1)\n",
        "v3 = v1 + v2\n",
        "\n",
        "print(\"v1 + v2 =\", v3)\n"
      ],
      "metadata": {
        "colab": {
          "base_uri": "https://localhost:8080/"
        },
        "id": "Ic8u4IOyIXB1",
        "outputId": "d1171635-b2e2-4279-9cb5-8873a8068476"
      },
      "execution_count": 22,
      "outputs": [
        {
          "output_type": "stream",
          "name": "stdout",
          "text": [
            "v1 + v2 = (6, 4)\n"
          ]
        }
      ]
    },
    {
      "cell_type": "code",
      "source": [
        "#Question 11\n",
        "class Person:\n",
        "    def __init__(self, name, age):\n",
        "        self.name = name\n",
        "        self.age = age\n",
        "\n",
        "    def greet(self):\n",
        "        print(f\"Hello, my name is {self.name} and I am {self.age} years old.\")\n",
        "\n",
        "p = Person(\"Alice\", 25)\n",
        "p.greet()\n"
      ],
      "metadata": {
        "colab": {
          "base_uri": "https://localhost:8080/"
        },
        "id": "83Xk0j_cIXLu",
        "outputId": "2e8f9f0d-e0f3-4e8b-8ee0-317e6121dd88"
      },
      "execution_count": 21,
      "outputs": [
        {
          "output_type": "stream",
          "name": "stdout",
          "text": [
            "Hello, my name is Alice and I am 25 years old.\n"
          ]
        }
      ]
    },
    {
      "cell_type": "code",
      "source": [
        "#Question 12\n",
        "class Student:\n",
        "  def __init__(self,name,grades):\n",
        "    self.name=name\n",
        "    self.grades=grades\n",
        "\n",
        "  def average_grade(self):\n",
        "    if self.grades:\n",
        "      return sum(self.grades)/len(self.grades)\n",
        "\n",
        "s = Student(\"John\", [85, 90, 78, 92])\n",
        "print(\"Average Grade:\", s.average_grade())"
      ],
      "metadata": {
        "colab": {
          "base_uri": "https://localhost:8080/"
        },
        "id": "hi1IaE9rJFF1",
        "outputId": "c7bbddce-bd97-479a-edc9-5938cacc9ac9"
      },
      "execution_count": 20,
      "outputs": [
        {
          "output_type": "stream",
          "name": "stdout",
          "text": [
            "Average Grade: 86.25\n"
          ]
        }
      ]
    },
    {
      "cell_type": "code",
      "source": [
        "#Question 13\n",
        "class Rectangle:\n",
        "    def __init__(self):\n",
        "        self.width = 0\n",
        "        self.height = 0\n",
        "\n",
        "    def set_dimensions(self, width, height):\n",
        "        self.width = width\n",
        "        self.height = height\n",
        "\n",
        "    def area(self):\n",
        "        return self.width * self.height\n",
        "\n",
        "r = Rectangle()\n",
        "r.set_dimensions(5, 10)\n",
        "print(\"Area of Rectangle:\", r.area())\n"
      ],
      "metadata": {
        "colab": {
          "base_uri": "https://localhost:8080/"
        },
        "id": "fLGbBKt5Lrho",
        "outputId": "0c64fe7d-4bbe-4066-a1c0-944fdd9fa812"
      },
      "execution_count": 19,
      "outputs": [
        {
          "output_type": "stream",
          "name": "stdout",
          "text": [
            "Area of Rectangle: 50\n"
          ]
        }
      ]
    },
    {
      "cell_type": "code",
      "source": [
        "#Question 14\n",
        "class Employee:\n",
        "    def __init__(self, hours_worked, hourly_rate):\n",
        "        self.hours_worked = hours_worked\n",
        "        self.hourly_rate = hourly_rate\n",
        "\n",
        "    def calculate_salary(self):\n",
        "        return self.hours_worked * self.hourly_rate\n",
        "\n",
        "class Manager(Employee):\n",
        "    def __init__(self, hours_worked, hourly_rate, bonus):\n",
        "        super().__init__(hours_worked, hourly_rate)\n",
        "        self.bonus = bonus\n",
        "\n",
        "    def calculate_salary(self):\n",
        "        base_salary = super().calculate_salary()\n",
        "        return base_salary + self.bonus\n",
        "\n",
        "e = Employee(40, 20)\n",
        "m = Manager(40, 20, 500)\n",
        "\n",
        "print(\"Employee Salary:\", e.calculate_salary())\n",
        "print(\"Manager Salary:\", m.calculate_salary())\n"
      ],
      "metadata": {
        "colab": {
          "base_uri": "https://localhost:8080/"
        },
        "id": "rWk1LeMSJFPp",
        "outputId": "0ff4b63e-d2d3-45ac-ddd6-74fb95d02c22"
      },
      "execution_count": 18,
      "outputs": [
        {
          "output_type": "stream",
          "name": "stdout",
          "text": [
            "Employee Salary: 800\n",
            "Manager Salary: 1300\n"
          ]
        }
      ]
    },
    {
      "cell_type": "code",
      "source": [
        "#Question 15\n",
        "class Product:\n",
        "    def __init__(self, name, price, quantity):\n",
        "        self.name = name\n",
        "        self.price = price\n",
        "        self.quantity = quantity\n",
        "\n",
        "    def total_price(self):\n",
        "        return self.price * self.quantity\n",
        "\n",
        "p = Product(\"Laptop\", 1000, 3)\n",
        "print(\"Total Price:\", p.total_price())\n"
      ],
      "metadata": {
        "colab": {
          "base_uri": "https://localhost:8080/"
        },
        "id": "5JrK9gLNJFYd",
        "outputId": "1104f536-a0fc-467b-824f-d3f7304414e5"
      },
      "execution_count": 17,
      "outputs": [
        {
          "output_type": "stream",
          "name": "stdout",
          "text": [
            "Total Price: 3000\n"
          ]
        }
      ]
    },
    {
      "cell_type": "code",
      "source": [
        "#Question 16\n",
        "from abc import ABC, abstractmethod\n",
        "\n",
        "class Animal(ABC):\n",
        "    @abstractmethod\n",
        "    def sound(self):\n",
        "        pass\n",
        "\n",
        "class Cow(Animal):\n",
        "    def sound(self):\n",
        "        return \"Moo\"\n",
        "\n",
        "class Sheep(Animal):\n",
        "    def sound(self):\n",
        "        return \"Baa\"\n",
        "\n",
        "cow = Cow()\n",
        "sheep = Sheep()\n",
        "\n",
        "print(\"Cow sound:\", cow.sound())\n",
        "print(\"Sheep sound:\", sheep.sound())\n"
      ],
      "metadata": {
        "colab": {
          "base_uri": "https://localhost:8080/"
        },
        "id": "WKeK6ZFmM8Sd",
        "outputId": "6e63d259-e151-4452-a0ac-111778a4a02b"
      },
      "execution_count": 16,
      "outputs": [
        {
          "output_type": "stream",
          "name": "stdout",
          "text": [
            "Cow sound: Moo\n",
            "Sheep sound: Baa\n"
          ]
        }
      ]
    },
    {
      "cell_type": "code",
      "source": [
        "#Question 17\n",
        "class Book:\n",
        "    def __init__(self, title, author, year_published):\n",
        "        self.title = title\n",
        "        self.author = author\n",
        "        self.year_published = year_published\n",
        "\n",
        "    def get_book_info(self):\n",
        "        return f\"'{self.title}' by {self.author}, published in {self.year_published}\"\n",
        "\n",
        "book = Book(\"1984\", \"George Orwell\", 1949)\n",
        "print(book.get_book_info())\n"
      ],
      "metadata": {
        "colab": {
          "base_uri": "https://localhost:8080/"
        },
        "id": "nv-tTHSoMysC",
        "outputId": "4a5fc4b7-d488-449e-c2fc-1efb05ab309a"
      },
      "execution_count": 15,
      "outputs": [
        {
          "output_type": "stream",
          "name": "stdout",
          "text": [
            "'1984' by George Orwell, published in 1949\n"
          ]
        }
      ]
    },
    {
      "cell_type": "code",
      "source": [
        "#Question 18\n",
        "class House:\n",
        "    def __init__(self, address, price):\n",
        "        self.address = address\n",
        "        self.price = price\n",
        "\n",
        "class Mansion(House):\n",
        "    def __init__(self, address, price, number_of_rooms):\n",
        "        super().__init__(address, price)\n",
        "        self.number_of_rooms = number_of_rooms\n",
        "\n",
        "m = Mansion(\"123 Luxury St\", 1_000_000, 10)\n",
        "print(f\"Address: {m.address}\")\n",
        "print(f\"Price: ${m.price}\")\n",
        "print(f\"Number of rooms: {m.number_of_rooms}\")\n"
      ],
      "metadata": {
        "colab": {
          "base_uri": "https://localhost:8080/"
        },
        "id": "VxqO6NfrMy3d",
        "outputId": "d27fd801-ecf7-4471-e288-23869b57d1be"
      },
      "execution_count": 14,
      "outputs": [
        {
          "output_type": "stream",
          "name": "stdout",
          "text": [
            "Address: 123 Luxury St\n",
            "Price: $1000000\n",
            "Number of rooms: 10\n"
          ]
        }
      ]
    }
  ]
}